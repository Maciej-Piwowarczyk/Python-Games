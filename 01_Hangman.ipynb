{
 "cells": [
  {
   "cell_type": "code",
   "execution_count": 1,
   "id": "ce9484f1-105e-4129-b2f0-81beb443ba20",
   "metadata": {},
   "outputs": [
    {
     "name": "stdout",
     "output_type": "stream",
     "text": [
      "pygame 2.5.2 (SDL 2.28.3, Python 3.12.2)\n",
      "Hello from the pygame community. https://www.pygame.org/contribute.html\n"
     ]
    },
    {
     "data": {
      "text/plain": [
       "(5, 0)"
      ]
     },
     "execution_count": 1,
     "metadata": {},
     "output_type": "execute_result"
    }
   ],
   "source": [
    "# IMPORT cell\n",
    "\n",
    "# Helps make the outputs easier to parse\n",
    "import time\n",
    "\n",
    "# Allows for random selection of words\n",
    "import random\n",
    "\n",
    "# In this project, pygame is only introduced to allow the playing of sounds\n",
    "import pygame\n",
    "pygame.init()\n"
   ]
  },
  {
   "cell_type": "code",
   "execution_count": 2,
   "id": "99c446e7-e5ad-4c7d-8148-fcaf5a8b843d",
   "metadata": {},
   "outputs": [
    {
     "name": "stdout",
     "output_type": "stream",
     "text": [
      "Welcome to Hangman! Please hold while we prepare the word list.\n",
      "Done!\n"
     ]
    }
   ],
   "source": [
    "# SET UP cell\n",
    "\n",
    "print(\"Welcome to Hangman! Please hold while we prepare the word list.\")\n",
    "\n",
    "# We begin by reading the wordlist \n",
    "# The variable 'lines' is a list of words of the form 'aardvark\\n'\n",
    "word_file = open(\"01_Hangman_wordlist.txt\",\"r\")\n",
    "lines = word_file.readlines()\n",
    "\n",
    "# Appending the items of 'lines' to a new list removes the '/n' suffix that comes from reading from a text file.\n",
    "word_list = []\n",
    "for line in lines:\n",
    "    word_list.append(line.strip())\n",
    "\n",
    "# We have now generated a list of words from which we can choose our target word.\n",
    "word_file.close()\n",
    "\n",
    "# These two lines load the two sounds that are used in the game\n",
    "# Applause for glorious vitories\n",
    "# Boo for emabarassing defeats\n",
    "applause = pygame.mixer.Sound('01_Hangman_applause.wav')\n",
    "boo = pygame.mixer.Sound('01_Hangman_boo.wav')\n",
    "\n",
    "# This was before I learned about tqdm\n",
    "print(\"Done!\")"
   ]
  },
  {
   "cell_type": "code",
   "execution_count": null,
   "id": "ff3ad4de-227b-42a9-b368-f7072330d63c",
   "metadata": {},
   "outputs": [
    {
     "name": "stdout",
     "output_type": "stream",
     "text": [
      "Your word has been chosen. It is 5 letters long.\n",
      "\n",
      "You have 5 lives remaining and you have used these letters: \n",
      "Your current word is _ _ _ _ _.\n",
      "\n"
     ]
    },
    {
     "name": "stdin",
     "output_type": "stream",
     "text": [
      "Guess a letter:  +\n"
     ]
    },
    {
     "name": "stdout",
     "output_type": "stream",
     "text": [
      "Your guess contained something other than letters. Try again.\n",
      "\n"
     ]
    },
    {
     "name": "stdin",
     "output_type": "stream",
     "text": [
      "Guess a letter:    as  \n"
     ]
    },
    {
     "name": "stdout",
     "output_type": "stream",
     "text": [
      "Your guess contained more than one letter. Try again.\n",
      "\n"
     ]
    },
    {
     "name": "stdin",
     "output_type": "stream",
     "text": [
      "Guess a letter:  a\n"
     ]
    },
    {
     "name": "stdout",
     "output_type": "stream",
     "text": [
      "That letter is not in the word.\n",
      "\n",
      "You have 4 lives remaining and you have used these letters: A\n",
      "Your current word is _ _ _ _ _.\n",
      "\n"
     ]
    },
    {
     "name": "stdin",
     "output_type": "stream",
     "text": [
      "Guess a letter:  n\n"
     ]
    },
    {
     "name": "stdout",
     "output_type": "stream",
     "text": [
      "That letter is not in the word.\n",
      "\n",
      "You have 3 lives remaining and you have used these letters: A N\n",
      "Your current word is _ _ _ _ _.\n",
      "\n"
     ]
    },
    {
     "name": "stdin",
     "output_type": "stream",
     "text": [
      "Guess a letter:  s\n"
     ]
    },
    {
     "name": "stdout",
     "output_type": "stream",
     "text": [
      "That was one of the letters!\n",
      "\n",
      "You have 3 lives remaining and you have used these letters: A N S\n",
      "Your current word is _ _ _ _ S.\n",
      "\n"
     ]
    },
    {
     "name": "stdin",
     "output_type": "stream",
     "text": [
      "Guess a letter:  d\n"
     ]
    },
    {
     "name": "stdout",
     "output_type": "stream",
     "text": [
      "That letter is not in the word.\n",
      "\n",
      "You have 2 lives remaining and you have used these letters: A N S D\n",
      "Your current word is _ _ _ _ S.\n",
      "\n"
     ]
    },
    {
     "name": "stdin",
     "output_type": "stream",
     "text": [
      "Guess a letter:  s\n"
     ]
    },
    {
     "name": "stdout",
     "output_type": "stream",
     "text": [
      "You already used that letter. Try again.\n",
      "\n"
     ]
    },
    {
     "name": "stdin",
     "output_type": "stream",
     "text": [
      "Guess a letter:  t\n"
     ]
    },
    {
     "name": "stdout",
     "output_type": "stream",
     "text": [
      "That letter is not in the word.\n",
      "\n",
      "You have 1 lives remaining and you have used these letters: A N S D T\n",
      "Your current word is _ _ _ _ S.\n",
      "\n"
     ]
    },
    {
     "name": "stdin",
     "output_type": "stream",
     "text": [
      "Guess a letter:  r\n"
     ]
    },
    {
     "name": "stdout",
     "output_type": "stream",
     "text": [
      "That letter is not in the word.\n",
      "\n",
      "You ran out of lives. Your word was BEEFS. Game Over!\n",
      "\n"
     ]
    }
   ],
   "source": [
    "# MAIN LOOP cell\n",
    "# This cell will run unil the game is exited, which can be done by a text prompt at the end of every round\n",
    "\n",
    "# When game_over is set to the boolean value 'True', the code will exit the main loop and terminate\n",
    "game_over = False\n",
    "\n",
    "# The main loop\n",
    "while not game_over:\n",
    "    # These lines select a random word from the list we generated earlier\n",
    "    # The word is capitalized and the length of the word is recorded\n",
    "    # The variables 'word' and 'word_length' are important going forward\n",
    "    # The variable 'word_index' is not called or adjusted until a new round begins\n",
    "    word_index = random.randint(0,len(word_list))\n",
    "    word = word_list[word_index].upper()\n",
    "    word_length = len(word)\n",
    "\n",
    "    print(\"Your word has been chosen. It is\", word_length, \"letters long.\")\n",
    "    print(\"\")\n",
    "\n",
    "    # The variable 'player_state' tracks how much of the word the player has guessed so far\n",
    "    # It is a list with alternating underscores '_' indicating letters and spaces ' ', which helps the player parse the printed list\n",
    "    # The loop initializes 'player_state' with the correct number of spots for letters\n",
    "    # The pop removes the final space, which is extraneous \n",
    "    player_state = []\n",
    "    for i in range(word_length):\n",
    "        player_state.append(\"_\")\n",
    "        player_state.append(\" \")\n",
    "    player_state.pop()\n",
    "\n",
    "    # The variable 'used_letters' keeps track of the letters the player has guessed so far\n",
    "    # The variable 'used_letters_display' is also initialized and will be used to report to the player what they have guessed so far\n",
    "    used_letters = []\n",
    "    used_letters_display = \"\".join(used_letters)\n",
    "\n",
    "    # The variable 'lives' denotes how many times the player can incorrectly guess a letter\n",
    "    lives = 5\n",
    "\n",
    "    # The round loop\n",
    "    # The loop will only exit when the player runs out of lives or if 'game_over' is set to 'True' which allows for multiple rounds \n",
    "    while lives != 0 and not game_over:\n",
    "        time.sleep(1.0)\n",
    "        print(\"You have\", lives, \"lives remaining and you have used these letters:\", used_letters_display)\n",
    "        print(\"Your current word is \" + \"\".join(player_state) + \".\")\n",
    "        print(\"\")\n",
    "\n",
    "        # Now it's time to play the game\n",
    "        # This while loop will run until the player guesses a valid letter, including resolving the guess once it happens\n",
    "        player_guess_invalid = True\n",
    "        while player_guess_invalid:\n",
    "            # Ask for input, strip the guess of excess spaces around the guess, and capitalize it\n",
    "            player_guess = str(input(\"Guess a letter: \"))\n",
    "            player_guess = player_guess.strip()\n",
    "            player_guess = player_guess.upper()\n",
    "\n",
    "            time.sleep(0.5)\n",
    "\n",
    "            # The error section - if something is wrong, the player is informed of what is wrong and 'continue' skips the rest of the loop \n",
    "            # First we check to see if the guess only contains letters using isalpha()\n",
    "            if not player_guess.isalpha():\n",
    "                print(\"Your guess contained something other than letters. Try again.\")\n",
    "                print(\"\")\n",
    "                continue\n",
    "            # Then we check to make sure there is only one letter by looking at the length\n",
    "            if len(player_guess) != 1:\n",
    "                print(\"Your guess contained more than one letter. Try again.\")\n",
    "                print(\"\")\n",
    "                continue\n",
    "            # Finally, we check to make sure that the letter was not already guessed, which shouldn't cost a life\n",
    "            if player_guess in used_letters:\n",
    "                print(\"You already used that letter. Try again.\")\n",
    "                print(\"\")\n",
    "                continue\n",
    "\n",
    "            # If the player's guess passes all the checks, we resolve it and exit the inner while loop\n",
    "            player_guess_invalid = False\n",
    "\n",
    "            # Update the variables corresponding to the player's guesses\n",
    "            used_letters.append(player_guess)\n",
    "            used_letters_display = \" \".join(used_letters)\n",
    "\n",
    "            # This if-else resolves the valid guess\n",
    "            # The simpler result is that the leter is not in the word, and so the player simply loses a life\n",
    "            # If lives drops to 0, the game is lost, the round while loop is exited, and the 'LOSE' section below is run.\n",
    "            if player_guess not in word:\n",
    "                lives -= 1\n",
    "                print(\"That letter is not in the word.\")\n",
    "                print(\"\")\n",
    "                time.sleep(0.5)\n",
    "                continue\n",
    "            # If the letter is in the word, there are two scenarios: the players wins or is still playing\n",
    "            else:\n",
    "                # This updates all the underscores that match the guessed letter in the word\n",
    "                for letter_index in range(word_length):\n",
    "                    if player_guess == word[letter_index]:\n",
    "                        player_state[2*letter_index] = word[letter_index]\n",
    "                \n",
    "                player_word = \"\".join(player_state)\n",
    "                player_word = player_word.replace(\" \",\"\")\n",
    "\n",
    "                # If the game is won, the following section runs\n",
    "                if player_word == word:\n",
    "                    # Victory screen\n",
    "                    print(\"You successfully guessed the word! Congrats!\")\n",
    "                    applause.play()\n",
    "                    print(\"\")\n",
    "                    # Prompt allowing for another round or exiting the game\n",
    "                    play_more = str(input(\"Continue playing? (Y/N)\")).upper()\n",
    "                    print(\"\")\n",
    "                    if play_more == \"N\":\n",
    "                        game_over = True\n",
    "                        print(\"Thanks for playing!\")\n",
    "\n",
    "                time.sleep(0.5)\n",
    "\n",
    "                # If the game continues, we loop back to the top of the round while loop\n",
    "                print(\"That was one of the letters!\")\n",
    "                print(\"\")\n",
    "                \n",
    "                continue\n",
    "\n",
    "    # If the player runs out of lives before guessing the full word, this section will play when the inner and round loops are exited. \n",
    "    print(\"You ran out of lives. Your word was \" + word + \". Game Over!\")\n",
    "    boo.play()\n",
    "    print(\"\")\n",
    "    \n",
    "    # Prompt allowing for another round or exiting the game\n",
    "    play_more = str(input(\"Continue playing? (Y/N)\")).upper()\n",
    "    print(\"\")\n",
    "    if play_more == \"N\":\n",
    "        game_over = True\n",
    "        print(\"Thanks for playing!\")"
   ]
  }
 ],
 "metadata": {
  "kernelspec": {
   "display_name": "Python 3 (ipykernel)",
   "language": "python",
   "name": "python3"
  },
  "language_info": {
   "codemirror_mode": {
    "name": "ipython",
    "version": 3
   },
   "file_extension": ".py",
   "mimetype": "text/x-python",
   "name": "python",
   "nbconvert_exporter": "python",
   "pygments_lexer": "ipython3",
   "version": "3.12.2"
  }
 },
 "nbformat": 4,
 "nbformat_minor": 5
}
