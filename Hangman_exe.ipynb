{
 "cells": [
  {
   "cell_type": "code",
   "execution_count": 1,
   "id": "ce9484f1-105e-4129-b2f0-81beb443ba20",
   "metadata": {},
   "outputs": [
    {
     "name": "stdout",
     "output_type": "stream",
     "text": [
      "pygame 2.5.2 (SDL 2.28.3, Python 3.12.2)\n",
      "Hello from the pygame community. https://www.pygame.org/contribute.html\n"
     ]
    },
    {
     "data": {
      "text/plain": [
       "(5, 0)"
      ]
     },
     "execution_count": 1,
     "metadata": {},
     "output_type": "execute_result"
    }
   ],
   "source": [
    "import time\n",
    "import random\n",
    "import pygame\n",
    "pygame.init()"
   ]
  },
  {
   "cell_type": "code",
   "execution_count": 2,
   "id": "99c446e7-e5ad-4c7d-8148-fcaf5a8b843d",
   "metadata": {},
   "outputs": [
    {
     "name": "stdout",
     "output_type": "stream",
     "text": [
      "Welcome to Hangman! Please hold while we prepare the word list.\n",
      "Done!\n"
     ]
    }
   ],
   "source": [
    "print(\"Welcome to Hangman! Please hold while we prepare the word list.\")\n",
    "\n",
    "word_file = open(\"wordlist.txt\",\"r\")\n",
    "lines = word_file.readlines()\n",
    "\n",
    "word_list = []\n",
    "for line in lines:\n",
    "    word_list.append(line.strip())\n",
    "\n",
    "word_file.close()\n",
    "\n",
    "applause = pygame.mixer.Sound('applause.wav')\n",
    "boo = pygame.mixer.Sound('boo.wav')\n",
    "\n",
    "print(\"Done!\")"
   ]
  },
  {
   "cell_type": "code",
   "execution_count": null,
   "id": "ff3ad4de-227b-42a9-b368-f7072330d63c",
   "metadata": {},
   "outputs": [
    {
     "name": "stdout",
     "output_type": "stream",
     "text": [
      "Your word has been chosen. It is 9 letters long.\n",
      "\n",
      "You have 5 lives remaining and you have used these letters: \n",
      "Your current word is _ _ _ _ _ _ _ _ _.\n",
      "\n"
     ]
    },
    {
     "name": "stdin",
     "output_type": "stream",
     "text": [
      "Guess a letter:  a\n"
     ]
    },
    {
     "name": "stdout",
     "output_type": "stream",
     "text": [
      "That was one of the letters!\n",
      "\n",
      "You have 5 lives remaining and you have used these letters: A\n",
      "Your current word is _ _ _ _ _ A _ _ _.\n",
      "\n"
     ]
    },
    {
     "name": "stdin",
     "output_type": "stream",
     "text": [
      "Guess a letter:  x\n"
     ]
    },
    {
     "name": "stdout",
     "output_type": "stream",
     "text": [
      "That letter is not in the word.\n",
      "\n",
      "You have 4 lives remaining and you have used these letters: A X\n",
      "Your current word is _ _ _ _ _ A _ _ _.\n",
      "\n"
     ]
    },
    {
     "name": "stdin",
     "output_type": "stream",
     "text": [
      "Guess a letter:  z\n"
     ]
    },
    {
     "name": "stdout",
     "output_type": "stream",
     "text": [
      "That letter is not in the word.\n",
      "\n",
      "You have 3 lives remaining and you have used these letters: A X Z\n",
      "Your current word is _ _ _ _ _ A _ _ _.\n",
      "\n"
     ]
    },
    {
     "name": "stdin",
     "output_type": "stream",
     "text": [
      "Guess a letter:  c\n"
     ]
    },
    {
     "name": "stdout",
     "output_type": "stream",
     "text": [
      "That was one of the letters!\n",
      "\n",
      "You have 3 lives remaining and you have used these letters: A X Z C\n",
      "Your current word is _ _ C _ _ A _ _ _.\n",
      "\n"
     ]
    },
    {
     "name": "stdin",
     "output_type": "stream",
     "text": [
      "Guess a letter:  v\n"
     ]
    },
    {
     "name": "stdout",
     "output_type": "stream",
     "text": [
      "That letter is not in the word.\n",
      "\n",
      "You have 2 lives remaining and you have used these letters: A X Z C V\n",
      "Your current word is _ _ C _ _ A _ _ _.\n",
      "\n"
     ]
    },
    {
     "name": "stdin",
     "output_type": "stream",
     "text": [
      "Guess a letter:  p\n"
     ]
    },
    {
     "name": "stdout",
     "output_type": "stream",
     "text": [
      "That letter is not in the word.\n",
      "\n",
      "You have 1 lives remaining and you have used these letters: A X Z C V P\n",
      "Your current word is _ _ C _ _ A _ _ _.\n",
      "\n"
     ]
    },
    {
     "name": "stdin",
     "output_type": "stream",
     "text": [
      "Guess a letter:  l\n"
     ]
    },
    {
     "name": "stdout",
     "output_type": "stream",
     "text": [
      "That letter is not in the word.\n",
      "\n",
      "You ran out of lives. Your word was DECORATES. Game Over!\n",
      "\n"
     ]
    },
    {
     "name": "stdin",
     "output_type": "stream",
     "text": [
      "Continue playing? (Y/N) y\n"
     ]
    },
    {
     "name": "stdout",
     "output_type": "stream",
     "text": [
      "\n",
      "Your word has been chosen. It is 7 letters long.\n",
      "\n",
      "You have 5 lives remaining and you have used these letters: \n",
      "Your current word is _ _ _ _ _ _ _.\n",
      "\n"
     ]
    },
    {
     "name": "stdin",
     "output_type": "stream",
     "text": [
      "Guess a letter:  e\n"
     ]
    },
    {
     "name": "stdout",
     "output_type": "stream",
     "text": [
      "That was one of the letters!\n",
      "\n",
      "You have 5 lives remaining and you have used these letters: E\n",
      "Your current word is _ _ _ _ _ E _.\n",
      "\n"
     ]
    },
    {
     "name": "stdin",
     "output_type": "stream",
     "text": [
      "Guess a letter:  a\n"
     ]
    },
    {
     "name": "stdout",
     "output_type": "stream",
     "text": [
      "That letter is not in the word.\n",
      "\n",
      "You have 4 lives remaining and you have used these letters: E A\n",
      "Your current word is _ _ _ _ _ E _.\n",
      "\n"
     ]
    },
    {
     "name": "stdin",
     "output_type": "stream",
     "text": [
      "Guess a letter:  s\n"
     ]
    },
    {
     "name": "stdout",
     "output_type": "stream",
     "text": [
      "That was one of the letters!\n",
      "\n",
      "You have 4 lives remaining and you have used these letters: E A S\n",
      "Your current word is S _ _ _ _ E _.\n",
      "\n"
     ]
    },
    {
     "name": "stdin",
     "output_type": "stream",
     "text": [
      "Guess a letter:  t\n"
     ]
    },
    {
     "name": "stdout",
     "output_type": "stream",
     "text": [
      "That letter is not in the word.\n",
      "\n",
      "You have 3 lives remaining and you have used these letters: E A S T\n",
      "Your current word is S _ _ _ _ E _.\n",
      "\n"
     ]
    },
    {
     "name": "stdin",
     "output_type": "stream",
     "text": [
      "Guess a letter:  o\n"
     ]
    },
    {
     "name": "stdout",
     "output_type": "stream",
     "text": [
      "That letter is not in the word.\n",
      "\n",
      "You have 2 lives remaining and you have used these letters: E A S T O\n",
      "Your current word is S _ _ _ _ E _.\n",
      "\n"
     ]
    },
    {
     "name": "stdin",
     "output_type": "stream",
     "text": [
      "Guess a letter:  i\n"
     ]
    },
    {
     "name": "stdout",
     "output_type": "stream",
     "text": [
      "That was one of the letters!\n",
      "\n",
      "You have 2 lives remaining and you have used these letters: E A S T O I\n",
      "Your current word is S I _ _ _ E _.\n",
      "\n"
     ]
    },
    {
     "name": "stdin",
     "output_type": "stream",
     "text": [
      "Guess a letter:  r\n"
     ]
    },
    {
     "name": "stdout",
     "output_type": "stream",
     "text": [
      "That letter is not in the word.\n",
      "\n",
      "You have 1 lives remaining and you have used these letters: E A S T O I R\n",
      "Your current word is S I _ _ _ E _.\n",
      "\n"
     ]
    },
    {
     "name": "stdin",
     "output_type": "stream",
     "text": [
      "Guess a letter:  n\n"
     ]
    },
    {
     "name": "stdout",
     "output_type": "stream",
     "text": [
      "That letter is not in the word.\n",
      "\n",
      "You ran out of lives. Your word was SICKBED. Game Over!\n",
      "\n"
     ]
    }
   ],
   "source": [
    "game_over = False\n",
    "\n",
    "while not game_over:\n",
    "    word_index = random.randint(0,len(word_list))\n",
    "    word = word_list[word_index].upper()\n",
    "    word_length = len(word)\n",
    "\n",
    "    print(\"Your word has been chosen. It is\", word_length, \"letters long.\")\n",
    "    print(\"\")\n",
    "    \n",
    "    player_state = []\n",
    "    for i in range(word_length):\n",
    "        player_state.append(\"_\")\n",
    "        player_state.append(\" \")\n",
    "    player_state.pop()\n",
    "\n",
    "    used_letters = []\n",
    "    used_letters_display = \"\".join(used_letters)\n",
    "    lives = 5\n",
    "\n",
    "    #main loop\n",
    "    while lives != 0 and not game_over:\n",
    "        time.sleep(1.0)\n",
    "        print(\"You have\", lives, \"lives remaining and you have used these letters:\", used_letters_display)\n",
    "        print(\"Your current word is \" + \"\".join(player_state) + \".\")\n",
    "        print(\"\")\n",
    "\n",
    "        player_guess_invalid = True\n",
    "        while player_guess_invalid:\n",
    "            player_guess = str(input(\"Guess a letter: \"))\n",
    "            player_guess = player_guess.strip()\n",
    "            player_guess = player_guess.upper()\n",
    "\n",
    "            time.sleep(0.5)\n",
    "            \n",
    "            if not player_guess.isalpha():\n",
    "                print(\"Your guess contained something other than letters. Try again.\")\n",
    "                print(\"\")\n",
    "                continue\n",
    "            if len(player_guess) != 1:\n",
    "                print(\"Your guess contained more than one letter. Try again.\")\n",
    "                print(\"\")\n",
    "                continue\n",
    "            if player_guess in used_letters:\n",
    "                print(\"You already used that letter. Try again.\")\n",
    "                print(\"\")\n",
    "                continue\n",
    "            \n",
    "            player_guess_invalid = False\n",
    "\n",
    "            used_letters.append(player_guess)\n",
    "            used_letters_display = \" \".join(used_letters)\n",
    "            \n",
    "            if player_guess not in word:\n",
    "                lives -= 1\n",
    "                print(\"That letter is not in the word.\")\n",
    "                print(\"\")\n",
    "                time.sleep(0.5)\n",
    "                continue\n",
    "            else:\n",
    "                for letter_index in range(word_length):\n",
    "                    if player_guess == word[letter_index]:\n",
    "                        player_state[2*letter_index] = word[letter_index]\n",
    "\n",
    "                player_word = \"\".join(player_state)\n",
    "                player_word = player_word.replace(\" \",\"\")\n",
    "                \n",
    "                if player_word == word:\n",
    "                    print(\"You successfully guessed the word! Congrats!\")\n",
    "                    applause.play()\n",
    "                    print(\"\")\n",
    "                    play_more = str(input(\"Continue playing? (Y/N)\")).upper()\n",
    "                    print(\"\")\n",
    "                    if play_more == \"N\":\n",
    "                        game_over = True\n",
    "                        print(\"Thanks for playing!\")\n",
    "\n",
    "                time.sleep(0.5)\n",
    "                \n",
    "                print(\"That was one of the letters!\")\n",
    "                print(\"\")\n",
    "                \n",
    "                continue\n",
    "\n",
    "    print(\"You ran out of lives. Your word was \" + word + \". Game Over!\")\n",
    "    boo.play()\n",
    "    print(\"\")\n",
    "    play_more = str(input(\"Continue playing? (Y/N)\")).upper()\n",
    "    print(\"\")\n",
    "    if play_more == \"N\":\n",
    "        game_over = True\n",
    "        print(\"Thanks for playing!\")"
   ]
  },
  {
   "cell_type": "code",
   "execution_count": null,
   "id": "fa67c1ef-3c2d-40c5-b0f9-3a485a233819",
   "metadata": {},
   "outputs": [],
   "source": []
  }
 ],
 "metadata": {
  "kernelspec": {
   "display_name": "Python 3 (ipykernel)",
   "language": "python",
   "name": "python3"
  },
  "language_info": {
   "codemirror_mode": {
    "name": "ipython",
    "version": 3
   },
   "file_extension": ".py",
   "mimetype": "text/x-python",
   "name": "python",
   "nbconvert_exporter": "python",
   "pygments_lexer": "ipython3",
   "version": "3.12.2"
  }
 },
 "nbformat": 4,
 "nbformat_minor": 5
}
